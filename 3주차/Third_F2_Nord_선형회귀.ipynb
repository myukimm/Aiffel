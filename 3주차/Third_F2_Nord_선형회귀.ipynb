{
  "nbformat": 4,
  "nbformat_minor": 0,
  "metadata": {
    "colab": {
      "name": "Untitled35.ipynb",
      "provenance": []
    },
    "kernelspec": {
      "name": "python3",
      "display_name": "Python 3"
    },
    "language_info": {
      "name": "python"
    }
  },
  "cells": [
    {
      "cell_type": "code",
      "execution_count": 110,
      "metadata": {
        "colab": {
          "base_uri": "https://localhost:8080/"
        },
        "id": "lopgcGEi3C4h",
        "outputId": "23452bb0-bcc0-415b-8040-57365e11f0d0"
      },
      "outputs": [
        {
          "output_type": "execute_result",
          "data": {
            "text/plain": [
              "['anagrams',\n",
              " 'anscombe',\n",
              " 'attention',\n",
              " 'brain_networks',\n",
              " 'car_crashes',\n",
              " 'diamonds',\n",
              " 'dots',\n",
              " 'exercise',\n",
              " 'flights',\n",
              " 'fmri',\n",
              " 'gammas',\n",
              " 'geyser',\n",
              " 'iris',\n",
              " 'mpg',\n",
              " 'penguins',\n",
              " 'planets',\n",
              " 'taxis',\n",
              " 'tips',\n",
              " 'titanic']"
            ]
          },
          "metadata": {},
          "execution_count": 110
        }
      ],
      "source": [
        "import seaborn as sns\n",
        "sns.get_dataset_names()"
      ]
    },
    {
      "cell_type": "code",
      "source": [
        "# 많은 데이터 중에, tips를 가져오자\n",
        "tips = sns.load_dataset(\"tips\")\n",
        "print(tips.shape)\n",
        "tips.head()"
      ],
      "metadata": {
        "colab": {
          "base_uri": "https://localhost:8080/",
          "height": 224
        },
        "id": "SVuezzvt3L9L",
        "outputId": "f4aee1e6-2585-40b2-eaee-6a3bc54487b8"
      },
      "execution_count": 111,
      "outputs": [
        {
          "output_type": "stream",
          "name": "stdout",
          "text": [
            "(244, 7)\n"
          ]
        },
        {
          "output_type": "execute_result",
          "data": {
            "text/plain": [
              "   total_bill   tip     sex smoker  day    time  size\n",
              "0       16.99  1.01  Female     No  Sun  Dinner     2\n",
              "1       10.34  1.66    Male     No  Sun  Dinner     3\n",
              "2       21.01  3.50    Male     No  Sun  Dinner     3\n",
              "3       23.68  3.31    Male     No  Sun  Dinner     2\n",
              "4       24.59  3.61  Female     No  Sun  Dinner     4"
            ],
            "text/html": [
              "\n",
              "  <div id=\"df-eeb83c61-01ae-4779-9510-fdfc8b270c2c\">\n",
              "    <div class=\"colab-df-container\">\n",
              "      <div>\n",
              "<style scoped>\n",
              "    .dataframe tbody tr th:only-of-type {\n",
              "        vertical-align: middle;\n",
              "    }\n",
              "\n",
              "    .dataframe tbody tr th {\n",
              "        vertical-align: top;\n",
              "    }\n",
              "\n",
              "    .dataframe thead th {\n",
              "        text-align: right;\n",
              "    }\n",
              "</style>\n",
              "<table border=\"1\" class=\"dataframe\">\n",
              "  <thead>\n",
              "    <tr style=\"text-align: right;\">\n",
              "      <th></th>\n",
              "      <th>total_bill</th>\n",
              "      <th>tip</th>\n",
              "      <th>sex</th>\n",
              "      <th>smoker</th>\n",
              "      <th>day</th>\n",
              "      <th>time</th>\n",
              "      <th>size</th>\n",
              "    </tr>\n",
              "  </thead>\n",
              "  <tbody>\n",
              "    <tr>\n",
              "      <th>0</th>\n",
              "      <td>16.99</td>\n",
              "      <td>1.01</td>\n",
              "      <td>Female</td>\n",
              "      <td>No</td>\n",
              "      <td>Sun</td>\n",
              "      <td>Dinner</td>\n",
              "      <td>2</td>\n",
              "    </tr>\n",
              "    <tr>\n",
              "      <th>1</th>\n",
              "      <td>10.34</td>\n",
              "      <td>1.66</td>\n",
              "      <td>Male</td>\n",
              "      <td>No</td>\n",
              "      <td>Sun</td>\n",
              "      <td>Dinner</td>\n",
              "      <td>3</td>\n",
              "    </tr>\n",
              "    <tr>\n",
              "      <th>2</th>\n",
              "      <td>21.01</td>\n",
              "      <td>3.50</td>\n",
              "      <td>Male</td>\n",
              "      <td>No</td>\n",
              "      <td>Sun</td>\n",
              "      <td>Dinner</td>\n",
              "      <td>3</td>\n",
              "    </tr>\n",
              "    <tr>\n",
              "      <th>3</th>\n",
              "      <td>23.68</td>\n",
              "      <td>3.31</td>\n",
              "      <td>Male</td>\n",
              "      <td>No</td>\n",
              "      <td>Sun</td>\n",
              "      <td>Dinner</td>\n",
              "      <td>2</td>\n",
              "    </tr>\n",
              "    <tr>\n",
              "      <th>4</th>\n",
              "      <td>24.59</td>\n",
              "      <td>3.61</td>\n",
              "      <td>Female</td>\n",
              "      <td>No</td>\n",
              "      <td>Sun</td>\n",
              "      <td>Dinner</td>\n",
              "      <td>4</td>\n",
              "    </tr>\n",
              "  </tbody>\n",
              "</table>\n",
              "</div>\n",
              "      <button class=\"colab-df-convert\" onclick=\"convertToInteractive('df-eeb83c61-01ae-4779-9510-fdfc8b270c2c')\"\n",
              "              title=\"Convert this dataframe to an interactive table.\"\n",
              "              style=\"display:none;\">\n",
              "        \n",
              "  <svg xmlns=\"http://www.w3.org/2000/svg\" height=\"24px\"viewBox=\"0 0 24 24\"\n",
              "       width=\"24px\">\n",
              "    <path d=\"M0 0h24v24H0V0z\" fill=\"none\"/>\n",
              "    <path d=\"M18.56 5.44l.94 2.06.94-2.06 2.06-.94-2.06-.94-.94-2.06-.94 2.06-2.06.94zm-11 1L8.5 8.5l.94-2.06 2.06-.94-2.06-.94L8.5 2.5l-.94 2.06-2.06.94zm10 10l.94 2.06.94-2.06 2.06-.94-2.06-.94-.94-2.06-.94 2.06-2.06.94z\"/><path d=\"M17.41 7.96l-1.37-1.37c-.4-.4-.92-.59-1.43-.59-.52 0-1.04.2-1.43.59L10.3 9.45l-7.72 7.72c-.78.78-.78 2.05 0 2.83L4 21.41c.39.39.9.59 1.41.59.51 0 1.02-.2 1.41-.59l7.78-7.78 2.81-2.81c.8-.78.8-2.07 0-2.86zM5.41 20L4 18.59l7.72-7.72 1.47 1.35L5.41 20z\"/>\n",
              "  </svg>\n",
              "      </button>\n",
              "      \n",
              "  <style>\n",
              "    .colab-df-container {\n",
              "      display:flex;\n",
              "      flex-wrap:wrap;\n",
              "      gap: 12px;\n",
              "    }\n",
              "\n",
              "    .colab-df-convert {\n",
              "      background-color: #E8F0FE;\n",
              "      border: none;\n",
              "      border-radius: 50%;\n",
              "      cursor: pointer;\n",
              "      display: none;\n",
              "      fill: #1967D2;\n",
              "      height: 32px;\n",
              "      padding: 0 0 0 0;\n",
              "      width: 32px;\n",
              "    }\n",
              "\n",
              "    .colab-df-convert:hover {\n",
              "      background-color: #E2EBFA;\n",
              "      box-shadow: 0px 1px 2px rgba(60, 64, 67, 0.3), 0px 1px 3px 1px rgba(60, 64, 67, 0.15);\n",
              "      fill: #174EA6;\n",
              "    }\n",
              "\n",
              "    [theme=dark] .colab-df-convert {\n",
              "      background-color: #3B4455;\n",
              "      fill: #D2E3FC;\n",
              "    }\n",
              "\n",
              "    [theme=dark] .colab-df-convert:hover {\n",
              "      background-color: #434B5C;\n",
              "      box-shadow: 0px 1px 3px 1px rgba(0, 0, 0, 0.15);\n",
              "      filter: drop-shadow(0px 1px 2px rgba(0, 0, 0, 0.3));\n",
              "      fill: #FFFFFF;\n",
              "    }\n",
              "  </style>\n",
              "\n",
              "      <script>\n",
              "        const buttonEl =\n",
              "          document.querySelector('#df-eeb83c61-01ae-4779-9510-fdfc8b270c2c button.colab-df-convert');\n",
              "        buttonEl.style.display =\n",
              "          google.colab.kernel.accessAllowed ? 'block' : 'none';\n",
              "\n",
              "        async function convertToInteractive(key) {\n",
              "          const element = document.querySelector('#df-eeb83c61-01ae-4779-9510-fdfc8b270c2c');\n",
              "          const dataTable =\n",
              "            await google.colab.kernel.invokeFunction('convertToInteractive',\n",
              "                                                     [key], {});\n",
              "          if (!dataTable) return;\n",
              "\n",
              "          const docLinkHtml = 'Like what you see? Visit the ' +\n",
              "            '<a target=\"_blank\" href=https://colab.research.google.com/notebooks/data_table.ipynb>data table notebook</a>'\n",
              "            + ' to learn more about interactive tables.';\n",
              "          element.innerHTML = '';\n",
              "          dataTable['output_type'] = 'display_data';\n",
              "          await google.colab.output.renderOutput(dataTable, element);\n",
              "          const docLink = document.createElement('div');\n",
              "          docLink.innerHTML = docLinkHtml;\n",
              "          element.appendChild(docLink);\n",
              "        }\n",
              "      </script>\n",
              "    </div>\n",
              "  </div>\n",
              "  "
            ]
          },
          "metadata": {},
          "execution_count": 111
        }
      ]
    },
    {
      "cell_type": "markdown",
      "source": [
        "total_bill : 테이블의 전체 지불 금액\n",
        "tip : 팁으로 낸 금액\n",
        "sex: 계산한 손님의 성별\n",
        "smoker : 손님 중 흡연자 포함 여부\n",
        "day : 요일\n",
        "time : 시간\n",
        "size : 테이블 인원수"
      ],
      "metadata": {
        "id": "1uNaELG_3a0r"
      }
    },
    {
      "cell_type": "markdown",
      "source": [
        "잠깐, 문자열 데이터가 있다 ! 숫자형 데이터로 바꿔주자"
      ],
      "metadata": {
        "id": "Zn0efUB73omF"
      }
    },
    {
      "cell_type": "code",
      "source": [
        "import pandas as pd\n",
        "tips = pd.get_dummies(tips, columns=['sex', 'smoker', 'day', 'time']) # dummies는 연속적인 숫자를 만들 수 있다. 0,1과 같은\n",
        "tips.head()"
      ],
      "metadata": {
        "colab": {
          "base_uri": "https://localhost:8080/",
          "height": 270
        },
        "id": "pW4ZksPr3adK",
        "outputId": "f76cd9f2-e15f-4369-c024-2cb016b3a7b0"
      },
      "execution_count": 112,
      "outputs": [
        {
          "output_type": "execute_result",
          "data": {
            "text/plain": [
              "   total_bill   tip  size  sex_Male  sex_Female  smoker_Yes  smoker_No  \\\n",
              "0       16.99  1.01     2         0           1           0          1   \n",
              "1       10.34  1.66     3         1           0           0          1   \n",
              "2       21.01  3.50     3         1           0           0          1   \n",
              "3       23.68  3.31     2         1           0           0          1   \n",
              "4       24.59  3.61     4         0           1           0          1   \n",
              "\n",
              "   day_Thur  day_Fri  day_Sat  day_Sun  time_Lunch  time_Dinner  \n",
              "0         0        0        0        1           0            1  \n",
              "1         0        0        0        1           0            1  \n",
              "2         0        0        0        1           0            1  \n",
              "3         0        0        0        1           0            1  \n",
              "4         0        0        0        1           0            1  "
            ],
            "text/html": [
              "\n",
              "  <div id=\"df-82787dff-fb78-4941-966c-abe260560389\">\n",
              "    <div class=\"colab-df-container\">\n",
              "      <div>\n",
              "<style scoped>\n",
              "    .dataframe tbody tr th:only-of-type {\n",
              "        vertical-align: middle;\n",
              "    }\n",
              "\n",
              "    .dataframe tbody tr th {\n",
              "        vertical-align: top;\n",
              "    }\n",
              "\n",
              "    .dataframe thead th {\n",
              "        text-align: right;\n",
              "    }\n",
              "</style>\n",
              "<table border=\"1\" class=\"dataframe\">\n",
              "  <thead>\n",
              "    <tr style=\"text-align: right;\">\n",
              "      <th></th>\n",
              "      <th>total_bill</th>\n",
              "      <th>tip</th>\n",
              "      <th>size</th>\n",
              "      <th>sex_Male</th>\n",
              "      <th>sex_Female</th>\n",
              "      <th>smoker_Yes</th>\n",
              "      <th>smoker_No</th>\n",
              "      <th>day_Thur</th>\n",
              "      <th>day_Fri</th>\n",
              "      <th>day_Sat</th>\n",
              "      <th>day_Sun</th>\n",
              "      <th>time_Lunch</th>\n",
              "      <th>time_Dinner</th>\n",
              "    </tr>\n",
              "  </thead>\n",
              "  <tbody>\n",
              "    <tr>\n",
              "      <th>0</th>\n",
              "      <td>16.99</td>\n",
              "      <td>1.01</td>\n",
              "      <td>2</td>\n",
              "      <td>0</td>\n",
              "      <td>1</td>\n",
              "      <td>0</td>\n",
              "      <td>1</td>\n",
              "      <td>0</td>\n",
              "      <td>0</td>\n",
              "      <td>0</td>\n",
              "      <td>1</td>\n",
              "      <td>0</td>\n",
              "      <td>1</td>\n",
              "    </tr>\n",
              "    <tr>\n",
              "      <th>1</th>\n",
              "      <td>10.34</td>\n",
              "      <td>1.66</td>\n",
              "      <td>3</td>\n",
              "      <td>1</td>\n",
              "      <td>0</td>\n",
              "      <td>0</td>\n",
              "      <td>1</td>\n",
              "      <td>0</td>\n",
              "      <td>0</td>\n",
              "      <td>0</td>\n",
              "      <td>1</td>\n",
              "      <td>0</td>\n",
              "      <td>1</td>\n",
              "    </tr>\n",
              "    <tr>\n",
              "      <th>2</th>\n",
              "      <td>21.01</td>\n",
              "      <td>3.50</td>\n",
              "      <td>3</td>\n",
              "      <td>1</td>\n",
              "      <td>0</td>\n",
              "      <td>0</td>\n",
              "      <td>1</td>\n",
              "      <td>0</td>\n",
              "      <td>0</td>\n",
              "      <td>0</td>\n",
              "      <td>1</td>\n",
              "      <td>0</td>\n",
              "      <td>1</td>\n",
              "    </tr>\n",
              "    <tr>\n",
              "      <th>3</th>\n",
              "      <td>23.68</td>\n",
              "      <td>3.31</td>\n",
              "      <td>2</td>\n",
              "      <td>1</td>\n",
              "      <td>0</td>\n",
              "      <td>0</td>\n",
              "      <td>1</td>\n",
              "      <td>0</td>\n",
              "      <td>0</td>\n",
              "      <td>0</td>\n",
              "      <td>1</td>\n",
              "      <td>0</td>\n",
              "      <td>1</td>\n",
              "    </tr>\n",
              "    <tr>\n",
              "      <th>4</th>\n",
              "      <td>24.59</td>\n",
              "      <td>3.61</td>\n",
              "      <td>4</td>\n",
              "      <td>0</td>\n",
              "      <td>1</td>\n",
              "      <td>0</td>\n",
              "      <td>1</td>\n",
              "      <td>0</td>\n",
              "      <td>0</td>\n",
              "      <td>0</td>\n",
              "      <td>1</td>\n",
              "      <td>0</td>\n",
              "      <td>1</td>\n",
              "    </tr>\n",
              "  </tbody>\n",
              "</table>\n",
              "</div>\n",
              "      <button class=\"colab-df-convert\" onclick=\"convertToInteractive('df-82787dff-fb78-4941-966c-abe260560389')\"\n",
              "              title=\"Convert this dataframe to an interactive table.\"\n",
              "              style=\"display:none;\">\n",
              "        \n",
              "  <svg xmlns=\"http://www.w3.org/2000/svg\" height=\"24px\"viewBox=\"0 0 24 24\"\n",
              "       width=\"24px\">\n",
              "    <path d=\"M0 0h24v24H0V0z\" fill=\"none\"/>\n",
              "    <path d=\"M18.56 5.44l.94 2.06.94-2.06 2.06-.94-2.06-.94-.94-2.06-.94 2.06-2.06.94zm-11 1L8.5 8.5l.94-2.06 2.06-.94-2.06-.94L8.5 2.5l-.94 2.06-2.06.94zm10 10l.94 2.06.94-2.06 2.06-.94-2.06-.94-.94-2.06-.94 2.06-2.06.94z\"/><path d=\"M17.41 7.96l-1.37-1.37c-.4-.4-.92-.59-1.43-.59-.52 0-1.04.2-1.43.59L10.3 9.45l-7.72 7.72c-.78.78-.78 2.05 0 2.83L4 21.41c.39.39.9.59 1.41.59.51 0 1.02-.2 1.41-.59l7.78-7.78 2.81-2.81c.8-.78.8-2.07 0-2.86zM5.41 20L4 18.59l7.72-7.72 1.47 1.35L5.41 20z\"/>\n",
              "  </svg>\n",
              "      </button>\n",
              "      \n",
              "  <style>\n",
              "    .colab-df-container {\n",
              "      display:flex;\n",
              "      flex-wrap:wrap;\n",
              "      gap: 12px;\n",
              "    }\n",
              "\n",
              "    .colab-df-convert {\n",
              "      background-color: #E8F0FE;\n",
              "      border: none;\n",
              "      border-radius: 50%;\n",
              "      cursor: pointer;\n",
              "      display: none;\n",
              "      fill: #1967D2;\n",
              "      height: 32px;\n",
              "      padding: 0 0 0 0;\n",
              "      width: 32px;\n",
              "    }\n",
              "\n",
              "    .colab-df-convert:hover {\n",
              "      background-color: #E2EBFA;\n",
              "      box-shadow: 0px 1px 2px rgba(60, 64, 67, 0.3), 0px 1px 3px 1px rgba(60, 64, 67, 0.15);\n",
              "      fill: #174EA6;\n",
              "    }\n",
              "\n",
              "    [theme=dark] .colab-df-convert {\n",
              "      background-color: #3B4455;\n",
              "      fill: #D2E3FC;\n",
              "    }\n",
              "\n",
              "    [theme=dark] .colab-df-convert:hover {\n",
              "      background-color: #434B5C;\n",
              "      box-shadow: 0px 1px 3px 1px rgba(0, 0, 0, 0.15);\n",
              "      filter: drop-shadow(0px 1px 2px rgba(0, 0, 0, 0.3));\n",
              "      fill: #FFFFFF;\n",
              "    }\n",
              "  </style>\n",
              "\n",
              "      <script>\n",
              "        const buttonEl =\n",
              "          document.querySelector('#df-82787dff-fb78-4941-966c-abe260560389 button.colab-df-convert');\n",
              "        buttonEl.style.display =\n",
              "          google.colab.kernel.accessAllowed ? 'block' : 'none';\n",
              "\n",
              "        async function convertToInteractive(key) {\n",
              "          const element = document.querySelector('#df-82787dff-fb78-4941-966c-abe260560389');\n",
              "          const dataTable =\n",
              "            await google.colab.kernel.invokeFunction('convertToInteractive',\n",
              "                                                     [key], {});\n",
              "          if (!dataTable) return;\n",
              "\n",
              "          const docLinkHtml = 'Like what you see? Visit the ' +\n",
              "            '<a target=\"_blank\" href=https://colab.research.google.com/notebooks/data_table.ipynb>data table notebook</a>'\n",
              "            + ' to learn more about interactive tables.';\n",
              "          element.innerHTML = '';\n",
              "          dataTable['output_type'] = 'display_data';\n",
              "          await google.colab.output.renderOutput(dataTable, element);\n",
              "          const docLink = document.createElement('div');\n",
              "          docLink.innerHTML = docLinkHtml;\n",
              "          element.appendChild(docLink);\n",
              "        }\n",
              "      </script>\n",
              "    </div>\n",
              "  </div>\n",
              "  "
            ]
          },
          "metadata": {},
          "execution_count": 112
        }
      ]
    },
    {
      "cell_type": "markdown",
      "source": [
        "숫자 데이터로 고쳐졌다는 것을 알 수 있다. 이러한 작업을 원-핫 인코딩(One Hot Encoding)이라고 부른다."
      ],
      "metadata": {
        "id": "QS_TqWvJ4RR3"
      }
    },
    {
      "cell_type": "code",
      "source": [
        "tips = tips[['total_bill', 'size', 'sex_Male', 'sex_Female', 'smoker_Yes', 'smoker_No',\n",
        "             'day_Thur', 'day_Fri', 'day_Sat', 'day_Sun', 'time_Lunch', 'time_Dinner', 'tip']]\n",
        "tips.head()"
      ],
      "metadata": {
        "colab": {
          "base_uri": "https://localhost:8080/",
          "height": 270
        },
        "id": "SWNFvg-y3MAA",
        "outputId": "7bc8a20d-1bb6-4099-b4fa-7b7042602b97"
      },
      "execution_count": 113,
      "outputs": [
        {
          "output_type": "execute_result",
          "data": {
            "text/plain": [
              "   total_bill  size  sex_Male  sex_Female  smoker_Yes  smoker_No  day_Thur  \\\n",
              "0       16.99     2         0           1           0          1         0   \n",
              "1       10.34     3         1           0           0          1         0   \n",
              "2       21.01     3         1           0           0          1         0   \n",
              "3       23.68     2         1           0           0          1         0   \n",
              "4       24.59     4         0           1           0          1         0   \n",
              "\n",
              "   day_Fri  day_Sat  day_Sun  time_Lunch  time_Dinner   tip  \n",
              "0        0        0        1           0            1  1.01  \n",
              "1        0        0        1           0            1  1.66  \n",
              "2        0        0        1           0            1  3.50  \n",
              "3        0        0        1           0            1  3.31  \n",
              "4        0        0        1           0            1  3.61  "
            ],
            "text/html": [
              "\n",
              "  <div id=\"df-b3bbca7f-0136-40c6-af3b-c8040cc6b2fa\">\n",
              "    <div class=\"colab-df-container\">\n",
              "      <div>\n",
              "<style scoped>\n",
              "    .dataframe tbody tr th:only-of-type {\n",
              "        vertical-align: middle;\n",
              "    }\n",
              "\n",
              "    .dataframe tbody tr th {\n",
              "        vertical-align: top;\n",
              "    }\n",
              "\n",
              "    .dataframe thead th {\n",
              "        text-align: right;\n",
              "    }\n",
              "</style>\n",
              "<table border=\"1\" class=\"dataframe\">\n",
              "  <thead>\n",
              "    <tr style=\"text-align: right;\">\n",
              "      <th></th>\n",
              "      <th>total_bill</th>\n",
              "      <th>size</th>\n",
              "      <th>sex_Male</th>\n",
              "      <th>sex_Female</th>\n",
              "      <th>smoker_Yes</th>\n",
              "      <th>smoker_No</th>\n",
              "      <th>day_Thur</th>\n",
              "      <th>day_Fri</th>\n",
              "      <th>day_Sat</th>\n",
              "      <th>day_Sun</th>\n",
              "      <th>time_Lunch</th>\n",
              "      <th>time_Dinner</th>\n",
              "      <th>tip</th>\n",
              "    </tr>\n",
              "  </thead>\n",
              "  <tbody>\n",
              "    <tr>\n",
              "      <th>0</th>\n",
              "      <td>16.99</td>\n",
              "      <td>2</td>\n",
              "      <td>0</td>\n",
              "      <td>1</td>\n",
              "      <td>0</td>\n",
              "      <td>1</td>\n",
              "      <td>0</td>\n",
              "      <td>0</td>\n",
              "      <td>0</td>\n",
              "      <td>1</td>\n",
              "      <td>0</td>\n",
              "      <td>1</td>\n",
              "      <td>1.01</td>\n",
              "    </tr>\n",
              "    <tr>\n",
              "      <th>1</th>\n",
              "      <td>10.34</td>\n",
              "      <td>3</td>\n",
              "      <td>1</td>\n",
              "      <td>0</td>\n",
              "      <td>0</td>\n",
              "      <td>1</td>\n",
              "      <td>0</td>\n",
              "      <td>0</td>\n",
              "      <td>0</td>\n",
              "      <td>1</td>\n",
              "      <td>0</td>\n",
              "      <td>1</td>\n",
              "      <td>1.66</td>\n",
              "    </tr>\n",
              "    <tr>\n",
              "      <th>2</th>\n",
              "      <td>21.01</td>\n",
              "      <td>3</td>\n",
              "      <td>1</td>\n",
              "      <td>0</td>\n",
              "      <td>0</td>\n",
              "      <td>1</td>\n",
              "      <td>0</td>\n",
              "      <td>0</td>\n",
              "      <td>0</td>\n",
              "      <td>1</td>\n",
              "      <td>0</td>\n",
              "      <td>1</td>\n",
              "      <td>3.50</td>\n",
              "    </tr>\n",
              "    <tr>\n",
              "      <th>3</th>\n",
              "      <td>23.68</td>\n",
              "      <td>2</td>\n",
              "      <td>1</td>\n",
              "      <td>0</td>\n",
              "      <td>0</td>\n",
              "      <td>1</td>\n",
              "      <td>0</td>\n",
              "      <td>0</td>\n",
              "      <td>0</td>\n",
              "      <td>1</td>\n",
              "      <td>0</td>\n",
              "      <td>1</td>\n",
              "      <td>3.31</td>\n",
              "    </tr>\n",
              "    <tr>\n",
              "      <th>4</th>\n",
              "      <td>24.59</td>\n",
              "      <td>4</td>\n",
              "      <td>0</td>\n",
              "      <td>1</td>\n",
              "      <td>0</td>\n",
              "      <td>1</td>\n",
              "      <td>0</td>\n",
              "      <td>0</td>\n",
              "      <td>0</td>\n",
              "      <td>1</td>\n",
              "      <td>0</td>\n",
              "      <td>1</td>\n",
              "      <td>3.61</td>\n",
              "    </tr>\n",
              "  </tbody>\n",
              "</table>\n",
              "</div>\n",
              "      <button class=\"colab-df-convert\" onclick=\"convertToInteractive('df-b3bbca7f-0136-40c6-af3b-c8040cc6b2fa')\"\n",
              "              title=\"Convert this dataframe to an interactive table.\"\n",
              "              style=\"display:none;\">\n",
              "        \n",
              "  <svg xmlns=\"http://www.w3.org/2000/svg\" height=\"24px\"viewBox=\"0 0 24 24\"\n",
              "       width=\"24px\">\n",
              "    <path d=\"M0 0h24v24H0V0z\" fill=\"none\"/>\n",
              "    <path d=\"M18.56 5.44l.94 2.06.94-2.06 2.06-.94-2.06-.94-.94-2.06-.94 2.06-2.06.94zm-11 1L8.5 8.5l.94-2.06 2.06-.94-2.06-.94L8.5 2.5l-.94 2.06-2.06.94zm10 10l.94 2.06.94-2.06 2.06-.94-2.06-.94-.94-2.06-.94 2.06-2.06.94z\"/><path d=\"M17.41 7.96l-1.37-1.37c-.4-.4-.92-.59-1.43-.59-.52 0-1.04.2-1.43.59L10.3 9.45l-7.72 7.72c-.78.78-.78 2.05 0 2.83L4 21.41c.39.39.9.59 1.41.59.51 0 1.02-.2 1.41-.59l7.78-7.78 2.81-2.81c.8-.78.8-2.07 0-2.86zM5.41 20L4 18.59l7.72-7.72 1.47 1.35L5.41 20z\"/>\n",
              "  </svg>\n",
              "      </button>\n",
              "      \n",
              "  <style>\n",
              "    .colab-df-container {\n",
              "      display:flex;\n",
              "      flex-wrap:wrap;\n",
              "      gap: 12px;\n",
              "    }\n",
              "\n",
              "    .colab-df-convert {\n",
              "      background-color: #E8F0FE;\n",
              "      border: none;\n",
              "      border-radius: 50%;\n",
              "      cursor: pointer;\n",
              "      display: none;\n",
              "      fill: #1967D2;\n",
              "      height: 32px;\n",
              "      padding: 0 0 0 0;\n",
              "      width: 32px;\n",
              "    }\n",
              "\n",
              "    .colab-df-convert:hover {\n",
              "      background-color: #E2EBFA;\n",
              "      box-shadow: 0px 1px 2px rgba(60, 64, 67, 0.3), 0px 1px 3px 1px rgba(60, 64, 67, 0.15);\n",
              "      fill: #174EA6;\n",
              "    }\n",
              "\n",
              "    [theme=dark] .colab-df-convert {\n",
              "      background-color: #3B4455;\n",
              "      fill: #D2E3FC;\n",
              "    }\n",
              "\n",
              "    [theme=dark] .colab-df-convert:hover {\n",
              "      background-color: #434B5C;\n",
              "      box-shadow: 0px 1px 3px 1px rgba(0, 0, 0, 0.15);\n",
              "      filter: drop-shadow(0px 1px 2px rgba(0, 0, 0, 0.3));\n",
              "      fill: #FFFFFF;\n",
              "    }\n",
              "  </style>\n",
              "\n",
              "      <script>\n",
              "        const buttonEl =\n",
              "          document.querySelector('#df-b3bbca7f-0136-40c6-af3b-c8040cc6b2fa button.colab-df-convert');\n",
              "        buttonEl.style.display =\n",
              "          google.colab.kernel.accessAllowed ? 'block' : 'none';\n",
              "\n",
              "        async function convertToInteractive(key) {\n",
              "          const element = document.querySelector('#df-b3bbca7f-0136-40c6-af3b-c8040cc6b2fa');\n",
              "          const dataTable =\n",
              "            await google.colab.kernel.invokeFunction('convertToInteractive',\n",
              "                                                     [key], {});\n",
              "          if (!dataTable) return;\n",
              "\n",
              "          const docLinkHtml = 'Like what you see? Visit the ' +\n",
              "            '<a target=\"_blank\" href=https://colab.research.google.com/notebooks/data_table.ipynb>data table notebook</a>'\n",
              "            + ' to learn more about interactive tables.';\n",
              "          element.innerHTML = '';\n",
              "          dataTable['output_type'] = 'display_data';\n",
              "          await google.colab.output.renderOutput(dataTable, element);\n",
              "          const docLink = document.createElement('div');\n",
              "          docLink.innerHTML = docLinkHtml;\n",
              "          element.appendChild(docLink);\n",
              "        }\n",
              "      </script>\n",
              "    </div>\n",
              "  </div>\n",
              "  "
            ]
          },
          "metadata": {},
          "execution_count": 113
        }
      ]
    },
    {
      "cell_type": "markdown",
      "source": [
        "특성이 하나 일 때는\n",
        "\n",
        "y = wx + b\n",
        "\n",
        "여러개 일 때는\n",
        "\n",
        "y = w1x1 + w2x2 + w3x3 + w4x4 + w5x5 --"
      ],
      "metadata": {
        "id": "7xKc3tGR4sP2"
      }
    },
    {
      "cell_type": "markdown",
      "source": [
        "x정보가 12개 입니다. 따라서 같은 원리로 각 x값을 조정할 수 있도록 각각의 x에 각기 다른 w를 곱하고, 상수 b는 단 하나만 더해준다."
      ],
      "metadata": {
        "id": "JK8PwClZ49Lk"
      }
    },
    {
      "cell_type": "markdown",
      "source": [
        "# 선형 회귀\n",
        "\n",
        "회귀 : 연속된 실수값을 예측하는 문제\n",
        "\n",
        "분류 : 사진을 입력받아 해당 사진이 강아지인지, 고양인지 맞히는 문제 분류\n",
        "\n"
      ],
      "metadata": {
        "id": "pU-F-Cpm5LtH"
      }
    },
    {
      "cell_type": "markdown",
      "source": [
        "3차원까지만, 그래프로 시각화가 가능.."
      ],
      "metadata": {
        "id": "TlH18QB16Jfs"
      }
    },
    {
      "cell_type": "code",
      "source": [
        "X = tips[['total_bill', 'size', 'sex_Male', 'sex_Female', 'smoker_Yes', 'smoker_No',\n",
        "          'day_Thur', 'day_Fri', 'day_Sat', 'day_Sun', 'time_Lunch', 'time_Dinner']].values\n",
        "y = tips['tip'].values"
      ],
      "metadata": {
        "id": "6WcW5HtG3MEG"
      },
      "execution_count": 114,
      "outputs": []
    },
    {
      "cell_type": "code",
      "source": [
        "from sklearn.model_selection import train_test_split\n",
        "\n",
        "X_train, X_test, y_train, y_test = train_test_split(X, y, test_size=0.2, random_state=42)\n",
        "\n",
        "print(X_train.shape, y_train.shape)\n",
        "print(X_test.shape, y_test.shape)"
      ],
      "metadata": {
        "colab": {
          "base_uri": "https://localhost:8080/"
        },
        "id": "Xklc7JEJ3MGn",
        "outputId": "56e66d4e-efd3-49e5-b001-abcf615f1770"
      },
      "execution_count": 115,
      "outputs": [
        {
          "output_type": "stream",
          "name": "stdout",
          "text": [
            "(195, 12) (195,)\n",
            "(49, 12) (49,)\n"
          ]
        }
      ]
    },
    {
      "cell_type": "code",
      "source": [
        "import numpy as np\n",
        "W = np.random.rand(12) #rand(행, 열)\n",
        "b = np.random.rand()"
      ],
      "metadata": {
        "id": "ou9h7emfS8CU"
      },
      "execution_count": 116,
      "outputs": []
    },
    {
      "cell_type": "code",
      "source": [
        "W # 12개의 값을 가지고 있는 지 확인."
      ],
      "metadata": {
        "colab": {
          "base_uri": "https://localhost:8080/"
        },
        "id": "_HYlge4T69hf",
        "outputId": "f9ab9b87-12a8-4e13-d963-87965f21157b"
      },
      "execution_count": 117,
      "outputs": [
        {
          "output_type": "execute_result",
          "data": {
            "text/plain": [
              "array([0.98642796, 0.34902551, 0.60600436, 0.1480101 , 0.49268586,\n",
              "       0.10034783, 0.95429946, 0.11876627, 0.20150625, 0.87534469,\n",
              "       0.85691254, 0.13207576])"
            ]
          },
          "metadata": {},
          "execution_count": 117
        }
      ]
    },
    {
      "cell_type": "code",
      "source": [
        "b # 1개의 값을 가지고 있는 지 확인."
      ],
      "metadata": {
        "colab": {
          "base_uri": "https://localhost:8080/"
        },
        "id": "6wHrDL9X69kE",
        "outputId": "ccdaee92-7e6b-44d3-89ae-ed45b56dea52"
      },
      "execution_count": 118,
      "outputs": [
        {
          "output_type": "execute_result",
          "data": {
            "text/plain": [
              "0.8027009940555733"
            ]
          },
          "metadata": {},
          "execution_count": 118
        }
      ]
    },
    {
      "cell_type": "code",
      "source": [
        "def model(X, W, b):\n",
        "    predictions = 0\n",
        "    for i in range(12):\n",
        "        predictions += X[:, i] * W[i]\n",
        "    predictions += b\n",
        "    return predictions"
      ],
      "metadata": {
        "id": "H9neYH0f69ml"
      },
      "execution_count": 119,
      "outputs": []
    },
    {
      "cell_type": "code",
      "source": [
        "# 손실함수 MSE를 사용해보자\n",
        "def MSE(a, b):\n",
        "    mse = ((a - b) ** 2).mean()  # 두 값의 차이의 제곱의 평균\n",
        "    return mse # 두 값의 차이의 제곱의 평균"
      ],
      "metadata": {
        "id": "lpDUM1uNWMEy"
      },
      "execution_count": 120,
      "outputs": []
    },
    {
      "cell_type": "code",
      "source": [
        "def loss(X, W, b, y):\n",
        "    predictions = model(X, W, b)\n",
        "    L = MSE(predictions, y)\n",
        "    return L"
      ],
      "metadata": {
        "id": "WVB1GzRD69rq"
      },
      "execution_count": 121,
      "outputs": []
    },
    {
      "cell_type": "markdown",
      "source": [
        "우리는 손실함수를 어떤 변수로 미분해야하나요?\n",
        "\n",
        "1. 우리가 손실함수를 미분하는 이유는 최적의 매개변수, w와 b에 가까워지는 방향을 알기 위함이었다.\n",
        "\n",
        "2. 특정 순간에 기울기가 양수라면 w를 더 작게 줄이고, 기울이가 음수라면, w를 더 크게 늘린다.\n",
        "\n",
        "3. 즉, 우리는 W' = W - ng 공식을 활용해서 변수를 업데이트하는데, 이 때 기울기는 변수 업데이트의 방향을 결정하는 역활을 한다.\n",
        "\n",
        "4. 따라서 손실함수는 언제나 내가 최적을 찾고자 하는 매개변수, 혹은 가중치에 대해 미분해야 한다.\n",
        "\n",
        "5. 현재 모델에는 w1부터 w12까지 12개의 w와, 1개의 b가 있으므로 우리는 총 13 개의 변수에 대해 미분을 해야 한다."
      ],
      "metadata": {
        "id": "nx4tVwMc9ojR"
      }
    },
    {
      "cell_type": "code",
      "source": [
        "#기울기 \n",
        "\n",
        "def gradient(X, W, b, y):\n",
        "    # N은 가중치의 개수\n",
        "    N = len(W)\n",
        "    \n",
        "    # y_pred 준비\n",
        "    y_pred = model(X, W, b)\n",
        "    \n",
        "    # 공식에 맞게 gradient 계산\n",
        "    dW = 1/N * 2 * X.T.dot(y_pred - y)\n",
        "        \n",
        "    # b의 gradient 계산\n",
        "    db = 2 * (y_pred - y).mean()\n",
        "    return dW, db"
      ],
      "metadata": {
        "id": "kCw3Rn2469uk"
      },
      "execution_count": 122,
      "outputs": []
    },
    {
      "cell_type": "code",
      "source": [
        "dW, db = gradient(X, W, b, y)\n",
        "print(\"dW:\", dW)\n",
        "print(\"db:\", db)"
      ],
      "metadata": {
        "colab": {
          "base_uri": "https://localhost:8080/"
        },
        "id": "FO7mUh8S_CXq",
        "outputId": "0621bc90-e696-433d-d5ec-a9d7a38ec5da"
      },
      "execution_count": 123,
      "outputs": [
        {
          "output_type": "stream",
          "name": "stdout",
          "text": [
            "dW: [18859.88659135  2262.5264505    544.88141292   262.01074583\n",
            "   322.71371913   484.17843962   193.30299553    53.95552523\n",
            "   289.04394713   270.58969086   206.04641751   600.84574124]\n",
            "db: 39.683220922117826\n"
          ]
        }
      ]
    },
    {
      "cell_type": "markdown",
      "source": [
        "w1부터 w12까지 12개의 기울기 값과, b의 기울기를 효과적으로 구했다."
      ],
      "metadata": {
        "id": "DuGAeOcxAvPX"
      }
    },
    {
      "cell_type": "markdown",
      "source": [
        "셋팅은 끝났으니, 본격적으로 학습시켜 보자"
      ],
      "metadata": {
        "id": "REV8FopHA4sJ"
      }
    },
    {
      "cell_type": "code",
      "source": [
        "LEARNING_RATE = 0.0001"
      ],
      "metadata": {
        "id": "yMFuR9VR_Cas"
      },
      "execution_count": 124,
      "outputs": []
    },
    {
      "cell_type": "code",
      "source": [
        "losses = []\n",
        "\n",
        "for i in range(1, 1001):\n",
        "    dW, db = gradient(X_train, W, b, y_train)\n",
        "    W -= LEARNING_RATE * dW\n",
        "    b -= LEARNING_RATE * db\n",
        "    L = loss(X_train, W, b, y_train)\n",
        "    losses.append(L)\n",
        "    if i % 10 == 0:\n",
        "        print('Iteration %d : Loss %0.4f' % (i, L))"
      ],
      "metadata": {
        "colab": {
          "base_uri": "https://localhost:8080/"
        },
        "id": "DV6tajOs_Cem",
        "outputId": "229a5c74-8974-49e2-9100-28265c6b0fc1"
      },
      "execution_count": 125,
      "outputs": [
        {
          "output_type": "stream",
          "name": "stdout",
          "text": [
            "Iteration 10 : Loss 1.9660\n",
            "Iteration 20 : Loss 1.9184\n",
            "Iteration 30 : Loss 1.8920\n",
            "Iteration 40 : Loss 1.8669\n",
            "Iteration 50 : Loss 1.8430\n",
            "Iteration 60 : Loss 1.8203\n",
            "Iteration 70 : Loss 1.7986\n",
            "Iteration 80 : Loss 1.7779\n",
            "Iteration 90 : Loss 1.7582\n",
            "Iteration 100 : Loss 1.7393\n",
            "Iteration 110 : Loss 1.7213\n",
            "Iteration 120 : Loss 1.7041\n",
            "Iteration 130 : Loss 1.6877\n",
            "Iteration 140 : Loss 1.6720\n",
            "Iteration 150 : Loss 1.6569\n",
            "Iteration 160 : Loss 1.6425\n",
            "Iteration 170 : Loss 1.6286\n",
            "Iteration 180 : Loss 1.6154\n",
            "Iteration 190 : Loss 1.6027\n",
            "Iteration 200 : Loss 1.5904\n",
            "Iteration 210 : Loss 1.5787\n",
            "Iteration 220 : Loss 1.5674\n",
            "Iteration 230 : Loss 1.5566\n",
            "Iteration 240 : Loss 1.5462\n",
            "Iteration 250 : Loss 1.5361\n",
            "Iteration 260 : Loss 1.5265\n",
            "Iteration 270 : Loss 1.5171\n",
            "Iteration 280 : Loss 1.5082\n",
            "Iteration 290 : Loss 1.4995\n",
            "Iteration 300 : Loss 1.4911\n",
            "Iteration 310 : Loss 1.4830\n",
            "Iteration 320 : Loss 1.4752\n",
            "Iteration 330 : Loss 1.4677\n",
            "Iteration 340 : Loss 1.4604\n",
            "Iteration 350 : Loss 1.4533\n",
            "Iteration 360 : Loss 1.4465\n",
            "Iteration 370 : Loss 1.4399\n",
            "Iteration 380 : Loss 1.4335\n",
            "Iteration 390 : Loss 1.4272\n",
            "Iteration 400 : Loss 1.4212\n",
            "Iteration 410 : Loss 1.4153\n",
            "Iteration 420 : Loss 1.4097\n",
            "Iteration 430 : Loss 1.4041\n",
            "Iteration 440 : Loss 1.3988\n",
            "Iteration 450 : Loss 1.3936\n",
            "Iteration 460 : Loss 1.3885\n",
            "Iteration 470 : Loss 1.3836\n",
            "Iteration 480 : Loss 1.3788\n",
            "Iteration 490 : Loss 1.3741\n",
            "Iteration 500 : Loss 1.3696\n",
            "Iteration 510 : Loss 1.3651\n",
            "Iteration 520 : Loss 1.3608\n",
            "Iteration 530 : Loss 1.3566\n",
            "Iteration 540 : Loss 1.3525\n",
            "Iteration 550 : Loss 1.3485\n",
            "Iteration 560 : Loss 1.3446\n",
            "Iteration 570 : Loss 1.3408\n",
            "Iteration 580 : Loss 1.3371\n",
            "Iteration 590 : Loss 1.3334\n",
            "Iteration 600 : Loss 1.3299\n",
            "Iteration 610 : Loss 1.3264\n",
            "Iteration 620 : Loss 1.3230\n",
            "Iteration 630 : Loss 1.3197\n",
            "Iteration 640 : Loss 1.3164\n",
            "Iteration 650 : Loss 1.3133\n",
            "Iteration 660 : Loss 1.3102\n",
            "Iteration 670 : Loss 1.3071\n",
            "Iteration 680 : Loss 1.3041\n",
            "Iteration 690 : Loss 1.3012\n",
            "Iteration 700 : Loss 1.2984\n",
            "Iteration 710 : Loss 1.2956\n",
            "Iteration 720 : Loss 1.2928\n",
            "Iteration 730 : Loss 1.2902\n",
            "Iteration 740 : Loss 1.2875\n",
            "Iteration 750 : Loss 1.2850\n",
            "Iteration 760 : Loss 1.2824\n",
            "Iteration 770 : Loss 1.2799\n",
            "Iteration 780 : Loss 1.2775\n",
            "Iteration 790 : Loss 1.2751\n",
            "Iteration 800 : Loss 1.2728\n",
            "Iteration 810 : Loss 1.2705\n",
            "Iteration 820 : Loss 1.2682\n",
            "Iteration 830 : Loss 1.2660\n",
            "Iteration 840 : Loss 1.2638\n",
            "Iteration 850 : Loss 1.2617\n",
            "Iteration 860 : Loss 1.2596\n",
            "Iteration 870 : Loss 1.2575\n",
            "Iteration 880 : Loss 1.2555\n",
            "Iteration 890 : Loss 1.2535\n",
            "Iteration 900 : Loss 1.2516\n",
            "Iteration 910 : Loss 1.2496\n",
            "Iteration 920 : Loss 1.2477\n",
            "Iteration 930 : Loss 1.2459\n",
            "Iteration 940 : Loss 1.2441\n",
            "Iteration 950 : Loss 1.2423\n",
            "Iteration 960 : Loss 1.2405\n",
            "Iteration 970 : Loss 1.2388\n",
            "Iteration 980 : Loss 1.2370\n",
            "Iteration 990 : Loss 1.2354\n",
            "Iteration 1000 : Loss 1.2337\n"
          ]
        }
      ]
    },
    {
      "cell_type": "markdown",
      "source": [
        "손실율이 점차 줄어드는 것을 볼 수 있다."
      ],
      "metadata": {
        "id": "5CsvKGmQQPgo"
      }
    },
    {
      "cell_type": "code",
      "source": [
        "import matplotlib.pyplot as plt\n",
        "plt.plot(losses)\n",
        "plt.show()"
      ],
      "metadata": {
        "colab": {
          "base_uri": "https://localhost:8080/",
          "height": 265
        },
        "id": "JjaqOUZQ_CiF",
        "outputId": "35819805-a107-457c-a0ed-56a6c7332ae4"
      },
      "execution_count": 128,
      "outputs": [
        {
          "output_type": "display_data",
          "data": {
            "text/plain": [
              "<Figure size 432x288 with 1 Axes>"
            ],
            "image/png": "[encoded data removed]"
          },
          "metadata": {
            "needs_background": "light"
          }
        }
      ]
    },
    {
      "cell_type": "code",
      "source": [
        "W, b"
      ],
      "metadata": {
        "colab": {
          "base_uri": "https://localhost:8080/"
        },
        "id": "Q-Ua8C2yXNzk",
        "outputId": "2ebaeb91-c803-41d0-c349-a5d1fd9466a3"
      },
      "execution_count": 129,
      "outputs": [
        {
          "output_type": "execute_result",
          "data": {
            "text/plain": [
              "(array([ 0.08352223, -0.01632366,  0.17535388,  0.03460147,  0.0765504 ,\n",
              "        -0.02757582,  0.47703035,  0.11765989,  0.29436583,  0.71680149,\n",
              "         0.33922871,  0.10570047]), 0.7692204331894602)"
            ]
          },
          "metadata": {},
          "execution_count": 129
        }
      ]
    },
    {
      "cell_type": "code",
      "source": [
        "prediction = model(X_test, W, b)\n",
        "mse = loss(X_test, W, b, y_test)\n",
        "mse"
      ],
      "metadata": {
        "colab": {
          "base_uri": "https://localhost:8080/"
        },
        "id": "pAs_g4iZXRnN",
        "outputId": "50fbb0e3-fef9-452d-adf7-7bea42e42053"
      },
      "execution_count": 131,
      "outputs": [
        {
          "output_type": "execute_result",
          "data": {
            "text/plain": [
              "0.7257728510704872"
            ]
          },
          "metadata": {},
          "execution_count": 131
        }
      ]
    },
    {
      "cell_type": "code",
      "source": [
        "plt.scatter(X_test[:,0], y_test)\n",
        "plt.scatter(X_test[:,0], prediction)\n",
        "plt.show()"
      ],
      "metadata": {
        "colab": {
          "base_uri": "https://localhost:8080/",
          "height": 265
        },
        "id": "nZNvdSuEXRq0",
        "outputId": "b19e40ee-527b-43c8-89ab-8167e2adeb0e"
      },
      "execution_count": 132,
      "outputs": [
        {
          "output_type": "display_data",
          "data": {
            "text/plain": [
              "<Figure size 432x288 with 1 Axes>"
            ],
            "image/png": "[encoded data removed]"
          },
          "metadata": {
            "needs_background": "light"
          }
        }
      ]
    },
    {
      "cell_type": "markdown",
      "source": [
        "x축에는 total_bill을 y축에는 각각 tip값과 prediction 값을 표시했습니다."
      ],
      "metadata": {
        "id": "q2FcTNfGXsdB"
      }
    },
    {
      "cell_type": "code",
      "source": [
        "tips = sns.load_dataset(\"tips\")\n",
        "tips = pd.get_dummies(tips, columns=['sex', 'smoker', 'day', 'time'])\n",
        "tips = tips[['total_bill', 'size', 'sex_Male', 'sex_Female', 'smoker_Yes', 'smoker_No',\n",
        "             'day_Thur', 'day_Fri', 'day_Sat', 'day_Sun', 'time_Lunch', 'time_Dinner', 'tip']]"
      ],
      "metadata": {
        "id": "Lyign-hCXRvE"
      },
      "execution_count": 133,
      "outputs": []
    },
    {
      "cell_type": "code",
      "source": [
        "X = tips[['total_bill', 'size', 'sex_Male', 'sex_Female', 'smoker_Yes', 'smoker_No',\n",
        "          'day_Thur', 'day_Fri', 'day_Sat', 'day_Sun', 'time_Lunch', 'time_Dinner']].values\n",
        "y = tips['tip'].values"
      ],
      "metadata": {
        "id": "wtFEx8dMXRyJ"
      },
      "execution_count": 134,
      "outputs": []
    },
    {
      "cell_type": "code",
      "source": [
        "X_train, X_test, y_train, y_test = train_test_split(X, y, test_size=0.2, random_state=42)\n"
      ],
      "metadata": {
        "id": "oB-Ke84-XRz9"
      },
      "execution_count": null,
      "outputs": []
    },
    {
      "cell_type": "code",
      "source": [
        "from sklearn.linear_model import LinearRegression\n",
        "\n",
        "model = LinearRegression()\n"
      ],
      "metadata": {
        "id": "46alNnsnXR1t"
      },
      "execution_count": 135,
      "outputs": []
    },
    {
      "cell_type": "code",
      "source": [
        "model.fit(X_train, y_train)"
      ],
      "metadata": {
        "colab": {
          "base_uri": "https://localhost:8080/"
        },
        "id": "-6wo2pp8XR3v",
        "outputId": "8c974cb0-032e-4829-bb7b-e158585fc30b"
      },
      "execution_count": 136,
      "outputs": [
        {
          "output_type": "execute_result",
          "data": {
            "text/plain": [
              "LinearRegression()"
            ]
          },
          "metadata": {},
          "execution_count": 136
        }
      ]
    },
    {
      "cell_type": "code",
      "source": [
        "predictions = model.predict(X_test)\n",
        "predictions"
      ],
      "metadata": {
        "colab": {
          "base_uri": "https://localhost:8080/"
        },
        "id": "76qER4aIYmHt",
        "outputId": "f3637ca1-d3a0-40dd-a807-5a75e997dd80"
      },
      "execution_count": 137,
      "outputs": [
        {
          "output_type": "execute_result",
          "data": {
            "text/plain": [
              "array([2.91436632, 2.00292613, 3.96425583, 3.76380832, 2.14836306,\n",
              "       2.67423448, 3.63934628, 2.29147245, 2.57207155, 2.45851225,\n",
              "       2.90446763, 2.0573337 , 2.11817193, 2.35130838, 1.82976215,\n",
              "       3.10830675, 2.95140176, 3.21602976, 2.56640892, 5.73957295,\n",
              "       3.43490366, 3.22645102, 2.17139823, 1.94180002, 3.16394533,\n",
              "       2.24547894, 2.14497574, 3.21025435, 3.20097595, 6.66803147,\n",
              "       5.01111235, 1.57804024, 3.1909877 , 2.76652194, 2.98412862,\n",
              "       3.85695724, 2.17008741, 5.46673999, 2.35586827, 2.99190732,\n",
              "       2.03271177, 2.48465991, 3.44046814, 2.35532237, 1.92528104,\n",
              "       0.87348926, 1.81911521, 3.04083954, 1.85436902])"
            ]
          },
          "metadata": {},
          "execution_count": 137
        }
      ]
    },
    {
      "cell_type": "code",
      "source": [
        "from sklearn.metrics import mean_squared_error\n",
        "\n",
        "mse = mean_squared_error(y_test, predictions)\n",
        "mse"
      ],
      "metadata": {
        "colab": {
          "base_uri": "https://localhost:8080/"
        },
        "id": "jkbEfZhoYt4q",
        "outputId": "feddc0ff-7fee-46bf-a7b8-2d3e6163ce4c"
      },
      "execution_count": 140,
      "outputs": [
        {
          "output_type": "execute_result",
          "data": {
            "text/plain": [
              "0.7033566017436105"
            ]
          },
          "metadata": {},
          "execution_count": 140
        }
      ]
    },
    {
      "cell_type": "markdown",
      "source": [
        "0.7 흠...나쁘지 않네"
      ],
      "metadata": {
        "id": "zCqAQ-O0ZA2m"
      }
    },
    {
      "cell_type": "code",
      "source": [
        "plt.scatter(X_test[:, 0], y_test, label=\"true\")\n",
        "plt.scatter(X_test[:, 0], predictions, label=\"pred\")\n",
        "plt.legend() #지정했던 범례 텍스트들이 그래프를 그린 순서대로 출력된다.\n",
        "plt.show()"
      ],
      "metadata": {
        "colab": {
          "base_uri": "https://localhost:8080/",
          "height": 265
        },
        "id": "PEj6Ut5sYuAx",
        "outputId": "a4a54514-b482-47b0-c4f8-817be50759ec"
      },
      "execution_count": 141,
      "outputs": [
        {
          "output_type": "display_data",
          "data": {
            "text/plain": [
              "<Figure size 432x288 with 1 Axes>"
            ],
            "image/png": "[encoded data removed]"
          },
          "metadata": {
            "needs_background": "light"
          }
        }
      ]
    }
  ]
}